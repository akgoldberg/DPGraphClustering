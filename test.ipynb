{
 "cells": [
  {
   "cell_type": "code",
   "execution_count": 1,
   "metadata": {
    "collapsed": false,
    "scrolled": false
   },
   "outputs": [],
   "source": [
    "from graph_functions import * \n",
    "from sample_aggregate import partition, hist_plot\n",
    "import numpy as np\n",
    "import networkx as nx\n",
    "import matplotlib.pyplot as plt\n",
    "import seaborn as sns\n",
    "sns.set_style(\"whitegrid\")\n",
    "sns.set_context(\"poster\")\n",
    "%matplotlib inline"
   ]
  },
  {
   "cell_type": "markdown",
   "metadata": {},
   "source": [
    "### Generate Graph"
   ]
  },
  {
   "cell_type": "code",
   "execution_count": 2,
   "metadata": {
    "collapsed": false,
    "scrolled": false
   },
   "outputs": [
    {
     "name": "stdout",
     "output_type": "stream",
     "text": [
      "CPU times: user 5.15 s, sys: 456 ms, total: 5.6 s\n",
      "Wall time: 6.05 s\n"
     ]
    }
   ],
   "source": [
    "%%time\n",
    "g = generatePlantedPartition(2, 5000, 0.02, 0.005)"
   ]
  },
  {
   "cell_type": "markdown",
   "metadata": {},
   "source": [
    "### Testing Conductance Calculation"
   ]
  },
  {
   "cell_type": "markdown",
   "metadata": {},
   "source": [
    "#### Edge Conductance"
   ]
  },
  {
   "cell_type": "code",
   "execution_count": 3,
   "metadata": {
    "collapsed": false,
    "scrolled": false
   },
   "outputs": [
    {
     "name": "stdout",
     "output_type": "stream",
     "text": [
      "CPU times: user 2.68 s, sys: 2.16 s, total: 4.85 s\n",
      "Wall time: 5.83 s\n"
     ]
    }
   ],
   "source": [
    "%%time\n",
    "A = np.array(nx.to_numpy_matrix(g))"
   ]
  },
  {
   "cell_type": "code",
   "execution_count": 4,
   "metadata": {
    "collapsed": false,
    "scrolled": false
   },
   "outputs": [
    {
     "name": "stdout",
     "output_type": "stream",
     "text": [
      "CPU times: user 1min 1s, sys: 8.14 s, total: 1min 10s\n",
      "Wall time: 40.7 s\n"
     ]
    }
   ],
   "source": [
    "%%time\n",
    "C_edge = cluster(A)"
   ]
  },
  {
   "cell_type": "code",
   "execution_count": 5,
   "metadata": {
    "collapsed": false,
    "scrolled": false
   },
   "outputs": [
    {
     "name": "stdout",
     "output_type": "stream",
     "text": [
      "CPU times: user 1.68 s, sys: 1.59 s, total: 3.27 s\n",
      "Wall time: 4.28 s\n"
     ]
    }
   ],
   "source": [
    "%%time\n",
    "cond_edge = conductance(C_edge, A)"
   ]
  },
  {
   "cell_type": "code",
   "execution_count": 6,
   "metadata": {
    "collapsed": false,
    "scrolled": false
   },
   "outputs": [
    {
     "name": "stdout",
     "output_type": "stream",
     "text": [
      "0.25147012812\n"
     ]
    }
   ],
   "source": [
    "print cond_edge"
   ]
  },
  {
   "cell_type": "markdown",
   "metadata": {},
   "source": [
    "### Triangle Conductance"
   ]
  },
  {
   "cell_type": "code",
   "execution_count": 7,
   "metadata": {
    "collapsed": false,
    "scrolled": false
   },
   "outputs": [
    {
     "name": "stdout",
     "output_type": "stream",
     "text": [
      "CPU times: user 5.43 s, sys: 687 ms, total: 6.12 s\n",
      "Wall time: 8.23 s\n"
     ]
    }
   ],
   "source": [
    "%%time\n",
    "M = reweightEdgesByTri(g)"
   ]
  },
  {
   "cell_type": "code",
   "execution_count": 8,
   "metadata": {
    "collapsed": false,
    "scrolled": false
   },
   "outputs": [
    {
     "name": "stdout",
     "output_type": "stream",
     "text": [
      "CPU times: user 59.2 s, sys: 10.3 s, total: 1min 9s\n",
      "Wall time: 39 s\n"
     ]
    }
   ],
   "source": [
    "%%time\n",
    "C_tri = cluster(M)"
   ]
  },
  {
   "cell_type": "code",
   "execution_count": 9,
   "metadata": {
    "collapsed": false,
    "scrolled": false
   },
   "outputs": [
    {
     "name": "stdout",
     "output_type": "stream",
     "text": [
      "CPU times: user 1.25 s, sys: 869 ms, total: 2.12 s\n",
      "Wall time: 2.18 s\n"
     ]
    }
   ],
   "source": [
    "%%time\n",
    "cond_tri = conductance(C_tri, M)"
   ]
  },
  {
   "cell_type": "code",
   "execution_count": 10,
   "metadata": {
    "collapsed": false,
    "scrolled": false
   },
   "outputs": [
    {
     "name": "stdout",
     "output_type": "stream",
     "text": [
      "0.119115576287\n"
     ]
    }
   ],
   "source": [
    "print cond_tri"
   ]
  },
  {
   "cell_type": "markdown",
   "metadata": {},
   "source": [
    "### Sample and Aggregate Stability"
   ]
  },
  {
   "cell_type": "code",
   "execution_count": null,
   "metadata": {
    "collapsed": true,
    "scrolled": true
   },
   "outputs": [],
   "source": [
    "g = generatePlantedPartition(2, 5000, 0.05, 0.01)"
   ]
  },
  {
   "cell_type": "code",
   "execution_count": 11,
   "metadata": {
    "collapsed": false,
    "scrolled": false
   },
   "outputs": [
    {
     "name": "stdout",
     "output_type": "stream",
     "text": [
      "Using 9 samples.\n",
      "CPU times: user 4.14 s, sys: 796 ms, total: 4.93 s\n",
      "Wall time: 4.7 s\n"
     ]
    }
   ],
   "source": [
    "%%time\n",
    "samples = partition(g)\n",
    "sample_edge_conds = [approxEdgeConductance(sg) for sg in samples]"
   ]
  },
  {
   "cell_type": "code",
   "execution_count": 12,
   "metadata": {
    "collapsed": false,
    "scrolled": false
   },
   "outputs": [
    {
     "data": {
      "image/png": "[encoded data removed]",
      "text/plain": [
       "<matplotlib.figure.Figure at 0x104126490>"
      ]
     },
     "metadata": {},
     "output_type": "display_data"
    }
   ],
   "source": [
    "hist_plot(sample_edge_conds, cond_edge)"
   ]
  },
  {
   "cell_type": "code",
   "execution_count": 13,
   "metadata": {
    "collapsed": false,
    "scrolled": false
   },
   "outputs": [
    {
     "name": "stdout",
     "output_type": "stream",
     "text": [
      "Using 9 samples.\n"
     ]
    },
    {
     "name": "stderr",
     "output_type": "stream",
     "text": [
      "/Users/alexandergoldberg/.virtualenvs/cs227/lib/python2.7/site-packages/sklearn/manifold/spectral_embedding_.py:229: UserWarning: Graph is not fully connected, spectral embedding may not work as expected.\n",
      "  warnings.warn(\"Graph is not fully connected, spectral embedding\"\n"
     ]
    },
    {
     "name": "stdout",
     "output_type": "stream",
     "text": [
      "CPU times: user 7.32 s, sys: 373 ms, total: 7.69 s\n",
      "Wall time: 7.5 s\n"
     ]
    }
   ],
   "source": [
    "%%time\n",
    "samples = partition(g)\n",
    "sample_tri_conds = [approxTriConductance(sg) for sg in samples]"
   ]
  },
  {
   "cell_type": "code",
   "execution_count": 14,
   "metadata": {
    "collapsed": false,
    "scrolled": false
   },
   "outputs": [
    {
     "data": {
      "image/png": "[encoded data removed]",
      "text/plain": [
       "<matplotlib.figure.Figure at 0x138a669d0>"
      ]
     },
     "metadata": {},
     "output_type": "display_data"
    }
   ],
   "source": [
    "hist_plot(sample_tri_conds, cond_tri)"
   ]
  },
  {
   "cell_type": "markdown",
   "metadata": {},
   "source": [
    "### Testing all Methods on Planted Partition Model ##"
   ]
  },
  {
   "cell_type": "code",
   "execution_count": 2,
   "metadata": {
    "collapsed": false,
    "scrolled": false
   },
   "outputs": [],
   "source": [
    "from run import test_all_pp, test_all\n",
    "from graph_functions import *"
   ]
  },
  {
   "cell_type": "markdown",
   "metadata": {},
   "source": [
    "#### N = 5000, P_in = 0.05, P_out= 0.01 ####"
   ]
  },
  {
   "cell_type": "code",
   "execution_count": 3,
   "metadata": {
    "collapsed": false,
    "scrolled": true
   },
   "outputs": [
    {
     "name": "stdout",
     "output_type": "stream",
     "text": [
      "CPU times: user 12.2 s, sys: 1.31 s, total: 13.5 s\n",
      "Wall time: 15.2 s\n"
     ]
    }
   ],
   "source": [
    "%%time\n",
    "# generate planted partition graph\n",
    "g = generatePlantedPartition(2, 5000, 0.05, 0.01)"
   ]
  },
  {
   "cell_type": "code",
   "execution_count": 4,
   "metadata": {
    "collapsed": false,
    "scrolled": true
   },
   "outputs": [
    {
     "name": "stdout",
     "output_type": "stream",
     "text": [
      "n=10000\n",
      "m=1500295\n",
      "Density=0.0300089008901\n"
     ]
    }
   ],
   "source": [
    "print \"n=\" + str(g.number_of_nodes())\n",
    "print \"m=\" + str(g.number_of_edges())\n",
    "print \"Density=\" + str(2.0*g.number_of_edges()/(g.number_of_nodes()*(g.number_of_nodes() - 1)))"
   ]
  },
  {
   "cell_type": "code",
   "execution_count": 5,
   "metadata": {
    "collapsed": false,
    "scrolled": true
   },
   "outputs": [
    {
     "name": "stdout",
     "output_type": "stream",
     "text": [
      "func:'approxEdgeConductance' took: 62.0860 sec\n",
      "func:'approxTriConductance' took: 134.5231 sec\n",
      "\n",
      "*********ITER 0************\n",
      "func:'sample_agg' took: 7.4477 sec\n",
      "\n",
      "func:'sample_agg' took: 7.1049 sec\n",
      "\n",
      "*********ITER 1************\n",
      "func:'sample_agg' took: 6.6411 sec\n",
      "\n",
      "func:'sample_agg' took: 9.3125 sec\n",
      "\n",
      "*********ITER 2************\n",
      "func:'sample_agg' took: 6.5914 sec\n",
      "\n",
      "func:'sample_agg' took: 9.2212 sec\n",
      "\n",
      "*********ITER 3************\n",
      "func:'sample_agg' took: 6.6125 sec\n",
      "\n",
      "func:'sample_agg' took: 8.1911 sec\n",
      "\n",
      "*********ITER 4************\n",
      "func:'sample_agg' took: 6.7055 sec\n",
      "\n"
     ]
    },
    {
     "name": "stderr",
     "output_type": "stream",
     "text": [
      "/Users/alexandergoldberg/.virtualenvs/cs227/lib/python2.7/site-packages/sklearn/manifold/spectral_embedding_.py:229: UserWarning: Graph is not fully connected, spectral embedding may not work as expected.\n",
      "  warnings.warn(\"Graph is not fully connected, spectral embedding\"\n"
     ]
    },
    {
     "name": "stdout",
     "output_type": "stream",
     "text": [
      "func:'sample_agg' took: 7.4129 sec\n",
      "\n",
      "*********ITER 5************\n",
      "func:'sample_agg' took: 5.7648 sec\n",
      "\n",
      "func:'sample_agg' took: 7.2433 sec\n",
      "\n",
      "*********ITER 6************\n",
      "func:'sample_agg' took: 7.5665 sec\n",
      "\n",
      "func:'sample_agg' took: 9.5364 sec\n",
      "\n",
      "*********ITER 7************\n",
      "func:'sample_agg' took: 7.4922 sec\n",
      "\n",
      "func:'sample_agg' took: 7.3150 sec\n",
      "\n",
      "*********ITER 8************\n",
      "func:'sample_agg' took: 6.7272 sec\n",
      "\n",
      "func:'sample_agg' took: 7.6748 sec\n",
      "\n",
      "*********ITER 9************\n",
      "func:'sample_agg' took: 6.6310 sec\n",
      "\n",
      "func:'sample_agg' took: 7.4820 sec\n",
      "\n",
      "*********ITER 10************\n",
      "func:'sample_agg' took: 6.9815 sec\n",
      "\n",
      "func:'sample_agg' took: 7.0557 sec\n",
      "\n",
      "*********ITER 11************\n",
      "func:'sample_agg' took: 6.8158 sec\n",
      "\n",
      "func:'sample_agg' took: 8.1788 sec\n",
      "\n",
      "*********ITER 12************\n",
      "func:'sample_agg' took: 6.9561 sec\n",
      "\n",
      "func:'sample_agg' took: 7.9844 sec\n",
      "\n",
      "*********ITER 13************\n",
      "func:'sample_agg' took: 6.6440 sec\n",
      "\n",
      "func:'sample_agg' took: 7.5906 sec\n",
      "\n",
      "*********ITER 14************\n",
      "func:'sample_agg' took: 6.9071 sec\n",
      "\n",
      "func:'sample_agg' took: 7.8712 sec\n",
      "\n",
      "*********ITER 15************\n",
      "func:'sample_agg' took: 6.9135 sec\n",
      "\n",
      "func:'sample_agg' took: 8.0386 sec\n",
      "\n",
      "*********ITER 16************\n",
      "func:'sample_agg' took: 6.3840 sec\n",
      "\n",
      "func:'sample_agg' took: 8.2252 sec\n",
      "\n",
      "*********ITER 17************\n",
      "func:'sample_agg' took: 6.7811 sec\n",
      "\n",
      "func:'sample_agg' took: 10.6585 sec\n",
      "\n",
      "*********ITER 18************\n",
      "func:'sample_agg' took: 7.7887 sec\n",
      "\n",
      "func:'sample_agg' took: 11.7728 sec\n",
      "\n",
      "*********ITER 19************\n",
      "func:'sample_agg' took: 8.2684 sec\n",
      "\n",
      "func:'sample_agg' took: 7.9468 sec\n",
      "\n",
      "*********ITER 20************\n",
      "func:'sample_agg' took: 7.3091 sec\n",
      "\n",
      "func:'sample_agg' took: 7.1849 sec\n",
      "\n",
      "*********ITER 21************\n",
      "func:'sample_agg' took: 7.7274 sec\n",
      "\n",
      "func:'sample_agg' took: 10.5016 sec\n",
      "\n",
      "*********ITER 22************\n",
      "func:'sample_agg' took: 7.9378 sec\n",
      "\n",
      "func:'sample_agg' took: 12.0659 sec\n",
      "\n",
      "*********ITER 23************\n",
      "func:'sample_agg' took: 8.4842 sec\n",
      "\n",
      "func:'sample_agg' took: 14.3911 sec\n",
      "\n",
      "*********ITER 24************\n",
      "func:'sample_agg' took: 6.2960 sec\n",
      "\n",
      "func:'sample_agg' took: 10.3261 sec\n",
      "\n",
      "*********ITER 25************\n",
      "func:'sample_agg' took: 19.6560 sec\n",
      "\n",
      "func:'sample_agg' took: 13.7257 sec\n",
      "\n",
      "*********ITER 26************\n",
      "func:'sample_agg' took: 13.7250 sec\n",
      "\n",
      "func:'sample_agg' took: 11.4330 sec\n",
      "\n",
      "*********ITER 27************\n",
      "func:'sample_agg' took: 8.1757 sec\n",
      "\n",
      "func:'sample_agg' took: 7.1634 sec\n",
      "\n",
      "*********ITER 28************\n",
      "func:'sample_agg' took: 9.9029 sec\n",
      "\n",
      "func:'sample_agg' took: 12.0865 sec\n",
      "\n",
      "*********ITER 29************\n",
      "func:'sample_agg' took: 7.0583 sec\n",
      "\n",
      "func:'sample_agg' took: 7.0364 sec\n",
      "\n",
      "*********ITER 30************\n",
      "func:'sample_agg' took: 8.2555 sec\n",
      "\n",
      "func:'sample_agg' took: 7.5851 sec\n",
      "\n",
      "*********ITER 31************\n",
      "func:'sample_agg' took: 7.9821 sec\n",
      "\n",
      "func:'sample_agg' took: 7.1920 sec\n",
      "\n",
      "*********ITER 32************\n",
      "func:'sample_agg' took: 9.9032 sec\n",
      "\n",
      "func:'sample_agg' took: 9.0778 sec\n",
      "\n",
      "*********ITER 33************\n",
      "func:'sample_agg' took: 6.2058 sec\n",
      "\n",
      "func:'sample_agg' took: 6.6473 sec\n",
      "\n",
      "*********ITER 34************\n",
      "func:'sample_agg' took: 6.0025 sec\n",
      "\n",
      "func:'sample_agg' took: 7.9083 sec\n",
      "\n",
      "*********ITER 35************\n",
      "func:'sample_agg' took: 7.2615 sec\n",
      "\n",
      "func:'sample_agg' took: 9.1448 sec\n",
      "\n",
      "*********ITER 36************\n",
      "func:'sample_agg' took: 6.4522 sec\n",
      "\n",
      "func:'sample_agg' took: 7.0774 sec\n",
      "\n",
      "*********ITER 37************\n",
      "func:'sample_agg' took: 7.1569 sec\n",
      "\n",
      "func:'sample_agg' took: 8.3617 sec\n",
      "\n",
      "*********ITER 38************\n",
      "func:'sample_agg' took: 6.7214 sec\n",
      "\n",
      "func:'sample_agg' took: 7.6699 sec\n",
      "\n",
      "*********ITER 39************\n",
      "func:'sample_agg' took: 7.4380 sec\n",
      "\n",
      "func:'sample_agg' took: 10.1960 sec\n",
      "\n",
      "*********ITER 40************\n",
      "func:'sample_agg' took: 8.6983 sec\n",
      "\n",
      "func:'sample_agg' took: 7.6548 sec\n",
      "\n",
      "*********ITER 41************\n",
      "func:'sample_agg' took: 6.8377 sec\n",
      "\n",
      "func:'sample_agg' took: 7.6063 sec\n",
      "\n",
      "*********ITER 42************\n",
      "func:'sample_agg' took: 7.7146 sec\n",
      "\n",
      "func:'sample_agg' took: 7.7556 sec\n",
      "\n",
      "*********ITER 43************\n",
      "func:'sample_agg' took: 6.9372 sec\n",
      "\n",
      "func:'sample_agg' took: 15.4156 sec\n",
      "\n",
      "*********ITER 44************\n",
      "func:'sample_agg' took: 7.6092 sec\n",
      "\n",
      "func:'sample_agg' took: 7.8996 sec\n",
      "\n",
      "*********ITER 45************\n",
      "func:'sample_agg' took: 6.9472 sec\n",
      "\n",
      "func:'sample_agg' took: 7.4725 sec\n",
      "\n",
      "*********ITER 46************\n",
      "func:'sample_agg' took: 8.6054 sec\n",
      "\n",
      "func:'sample_agg' took: 14.9142 sec\n",
      "\n",
      "*********ITER 47************\n",
      "func:'sample_agg' took: 8.2447 sec\n",
      "\n",
      "func:'sample_agg' took: 6.7998 sec\n",
      "\n",
      "*********ITER 48************\n",
      "func:'sample_agg' took: 7.3146 sec\n",
      "\n",
      "func:'sample_agg' took: 7.5387 sec\n",
      "\n",
      "*********ITER 49************\n",
      "func:'sample_agg' took: 6.0045 sec\n",
      "\n",
      "func:'sample_agg' took: 6.6697 sec\n",
      "CPU times: user 14min 24s, sys: 1min 54s, total: 16min 18s\n",
      "Wall time: 17min 2s\n"
     ]
    }
   ],
   "source": [
    "%%time\n",
    "results1 = test_all(g, eps=0.1, iters=50)"
   ]
  },
  {
   "cell_type": "code",
   "execution_count": 6,
   "metadata": {
    "collapsed": false,
    "scrolled": true
   },
   "outputs": [
    {
     "name": "stdout",
     "output_type": "stream",
     "text": [
      "func:'approxEdgeConductance' took: 74.7892 sec\n",
      "func:'approxTriConductance' took: 117.3289 sec\n",
      "\n",
      "*********ITER 0************\n",
      "func:'sample_agg' took: 8.5011 sec\n",
      "\n",
      "func:'sample_agg' took: 8.2609 sec\n",
      "\n",
      "*********ITER 1************\n",
      "func:'sample_agg' took: 7.2409 sec\n",
      "\n",
      "func:'sample_agg' took: 7.9086 sec\n",
      "\n",
      "*********ITER 2************\n",
      "func:'sample_agg' took: 9.4440 sec\n",
      "\n",
      "func:'sample_agg' took: 6.5054 sec\n",
      "\n",
      "*********ITER 3************\n",
      "func:'sample_agg' took: 5.7425 sec\n",
      "\n",
      "func:'sample_agg' took: 8.6587 sec\n",
      "\n",
      "*********ITER 4************\n",
      "func:'sample_agg' took: 6.7642 sec\n",
      "\n",
      "func:'sample_agg' took: 6.4461 sec\n",
      "\n",
      "*********ITER 5************\n",
      "func:'sample_agg' took: 9.1369 sec\n",
      "\n",
      "func:'sample_agg' took: 9.3509 sec\n",
      "\n",
      "*********ITER 6************\n",
      "func:'sample_agg' took: 7.5550 sec\n",
      "\n",
      "func:'sample_agg' took: 9.2439 sec\n",
      "\n",
      "*********ITER 7************\n",
      "func:'sample_agg' took: 26.9217 sec\n",
      "\n",
      "func:'sample_agg' took: 10.0994 sec\n",
      "\n",
      "*********ITER 8************\n",
      "func:'sample_agg' took: 9.0259 sec\n",
      "\n",
      "func:'sample_agg' took: 7.0862 sec\n",
      "\n",
      "*********ITER 9************\n",
      "func:'sample_agg' took: 7.3380 sec\n",
      "\n",
      "func:'sample_agg' took: 9.6682 sec\n",
      "\n",
      "*********ITER 10************\n",
      "func:'sample_agg' took: 7.0822 sec\n",
      "\n",
      "func:'sample_agg' took: 9.8061 sec\n",
      "\n",
      "*********ITER 11************\n",
      "func:'sample_agg' took: 8.6838 sec\n",
      "\n",
      "func:'sample_agg' took: 7.9129 sec\n",
      "\n",
      "*********ITER 12************\n",
      "func:'sample_agg' took: 7.4377 sec\n",
      "\n",
      "func:'sample_agg' took: 8.7212 sec\n",
      "\n",
      "*********ITER 13************\n",
      "func:'sample_agg' took: 7.3735 sec\n",
      "\n",
      "func:'sample_agg' took: 8.0107 sec\n",
      "\n",
      "*********ITER 14************\n",
      "func:'sample_agg' took: 9.4697 sec\n",
      "\n",
      "func:'sample_agg' took: 12.1533 sec\n",
      "\n",
      "*********ITER 15************\n",
      "func:'sample_agg' took: 10.5592 sec\n",
      "\n",
      "func:'sample_agg' took: 10.8748 sec\n",
      "\n",
      "*********ITER 16************\n",
      "func:'sample_agg' took: 8.0273 sec\n",
      "\n",
      "func:'sample_agg' took: 7.1002 sec\n",
      "\n",
      "*********ITER 17************\n",
      "func:'sample_agg' took: 6.6269 sec\n",
      "\n",
      "func:'sample_agg' took: 10.4437 sec\n",
      "\n",
      "*********ITER 18************\n",
      "func:'sample_agg' took: 7.3503 sec\n",
      "\n",
      "func:'sample_agg' took: 6.0059 sec\n",
      "\n",
      "*********ITER 19************\n",
      "func:'sample_agg' took: 5.6033 sec\n",
      "\n",
      "func:'sample_agg' took: 6.2902 sec\n",
      "\n",
      "*********ITER 20************\n",
      "func:'sample_agg' took: 5.8103 sec\n",
      "\n",
      "func:'sample_agg' took: 8.7897 sec\n",
      "\n",
      "*********ITER 21************\n",
      "func:'sample_agg' took: 9.9258 sec\n",
      "\n",
      "func:'sample_agg' took: 8.8662 sec\n",
      "\n",
      "*********ITER 22************\n",
      "func:'sample_agg' took: 7.6977 sec\n",
      "\n",
      "func:'sample_agg' took: 8.2945 sec\n",
      "\n",
      "*********ITER 23************\n",
      "func:'sample_agg' took: 7.1081 sec\n",
      "\n",
      "func:'sample_agg' took: 7.0362 sec\n",
      "\n",
      "*********ITER 24************\n",
      "func:'sample_agg' took: 7.0638 sec\n",
      "\n",
      "func:'sample_agg' took: 7.6364 sec\n",
      "\n",
      "*********ITER 25************\n",
      "func:'sample_agg' took: 6.6423 sec\n",
      "\n",
      "func:'sample_agg' took: 7.5177 sec\n",
      "\n",
      "*********ITER 26************\n",
      "func:'sample_agg' took: 7.0018 sec\n",
      "\n",
      "func:'sample_agg' took: 7.0732 sec\n",
      "\n",
      "*********ITER 27************\n",
      "func:'sample_agg' took: 6.6817 sec\n",
      "\n",
      "func:'sample_agg' took: 7.4908 sec\n",
      "\n",
      "*********ITER 28************\n",
      "func:'sample_agg' took: 6.1376 sec\n",
      "\n",
      "func:'sample_agg' took: 6.8076 sec\n",
      "\n",
      "*********ITER 29************\n",
      "func:'sample_agg' took: 5.7701 sec\n",
      "\n",
      "func:'sample_agg' took: 6.9892 sec\n",
      "\n",
      "*********ITER 30************\n",
      "func:'sample_agg' took: 6.1080 sec\n",
      "\n",
      "func:'sample_agg' took: 6.5844 sec\n",
      "\n",
      "*********ITER 31************\n",
      "func:'sample_agg' took: 6.0207 sec\n",
      "\n",
      "func:'sample_agg' took: 7.1242 sec\n",
      "\n",
      "*********ITER 32************\n",
      "func:'sample_agg' took: 5.7590 sec\n",
      "\n",
      "func:'sample_agg' took: 6.7371 sec\n",
      "\n",
      "*********ITER 33************\n",
      "func:'sample_agg' took: 6.0106 sec\n",
      "\n",
      "func:'sample_agg' took: 6.9156 sec\n",
      "\n",
      "*********ITER 34************\n",
      "func:'sample_agg' took: 6.8314 sec\n",
      "\n",
      "func:'sample_agg' took: 7.4604 sec\n",
      "\n",
      "*********ITER 35************\n",
      "func:'sample_agg' took: 7.2520 sec\n",
      "\n",
      "func:'sample_agg' took: 7.4681 sec\n",
      "\n",
      "*********ITER 36************\n",
      "func:'sample_agg' took: 7.3121 sec\n",
      "\n",
      "func:'sample_agg' took: 7.2752 sec\n",
      "\n",
      "*********ITER 37************\n",
      "func:'sample_agg' took: 6.2874 sec\n",
      "\n",
      "func:'sample_agg' took: 7.0506 sec\n",
      "\n",
      "*********ITER 38************\n",
      "func:'sample_agg' took: 6.5597 sec\n",
      "\n",
      "func:'sample_agg' took: 7.6871 sec\n",
      "\n",
      "*********ITER 39************\n",
      "func:'sample_agg' took: 8.5740 sec\n",
      "\n",
      "func:'sample_agg' took: 7.5226 sec\n",
      "\n",
      "*********ITER 40************\n",
      "func:'sample_agg' took: 6.3199 sec\n",
      "\n",
      "func:'sample_agg' took: 16.9663 sec\n",
      "\n",
      "*********ITER 41************\n",
      "func:'sample_agg' took: 11.8352 sec\n",
      "\n",
      "func:'sample_agg' took: 9.4202 sec\n",
      "\n",
      "*********ITER 42************\n",
      "func:'sample_agg' took: 9.6356 sec\n",
      "\n",
      "func:'sample_agg' took: 6.7251 sec\n",
      "\n",
      "*********ITER 43************\n",
      "func:'sample_agg' took: 6.2014 sec\n",
      "\n",
      "func:'sample_agg' took: 8.9574 sec\n",
      "\n",
      "*********ITER 44************\n",
      "func:'sample_agg' took: 7.6454 sec\n",
      "\n",
      "func:'sample_agg' took: 12.5528 sec\n",
      "\n",
      "*********ITER 45************\n",
      "func:'sample_agg' took: 7.5932 sec\n",
      "\n",
      "func:'sample_agg' took: 8.6413 sec\n",
      "\n",
      "*********ITER 46************\n",
      "func:'sample_agg' took: 6.6378 sec\n",
      "\n",
      "func:'sample_agg' took: 6.9212 sec\n",
      "\n",
      "*********ITER 47************\n",
      "func:'sample_agg' took: 6.0494 sec\n",
      "\n",
      "func:'sample_agg' took: 6.6212 sec\n",
      "\n",
      "*********ITER 48************\n",
      "func:'sample_agg' took: 6.0561 sec\n",
      "\n",
      "func:'sample_agg' took: 8.1641 sec\n",
      "\n",
      "*********ITER 49************\n",
      "func:'sample_agg' took: 6.4880 sec\n",
      "\n",
      "func:'sample_agg' took: 7.0366 sec\n",
      "CPU times: user 14min 10s, sys: 1min 50s, total: 16min 1s\n",
      "Wall time: 16min 30s\n"
     ]
    }
   ],
   "source": [
    "%%time\n",
    "results2 = test_all(g, eps=0.5, iters=50)"
   ]
  },
  {
   "cell_type": "code",
   "execution_count": 7,
   "metadata": {
    "collapsed": false,
    "scrolled": true
   },
   "outputs": [
    {
     "name": "stdout",
     "output_type": "stream",
     "text": [
      "func:'approxEdgeConductance' took: 84.1019 sec\n",
      "func:'approxTriConductance' took: 112.6581 sec\n",
      "\n",
      "*********ITER 0************\n",
      "func:'sample_agg' took: 8.8305 sec\n",
      "\n",
      "func:'sample_agg' took: 9.1447 sec\n",
      "\n",
      "*********ITER 1************\n",
      "func:'sample_agg' took: 9.7546 sec\n",
      "\n",
      "func:'sample_agg' took: 7.8102 sec\n",
      "\n",
      "*********ITER 2************\n",
      "func:'sample_agg' took: 6.1356 sec\n",
      "\n",
      "func:'sample_agg' took: 9.4143 sec\n",
      "\n",
      "*********ITER 3************\n",
      "func:'sample_agg' took: 13.0906 sec\n",
      "\n",
      "func:'sample_agg' took: 6.7639 sec\n",
      "\n",
      "*********ITER 4************\n",
      "func:'sample_agg' took: 6.4242 sec\n",
      "\n",
      "func:'sample_agg' took: 7.3593 sec\n",
      "\n",
      "*********ITER 5************\n",
      "func:'sample_agg' took: 6.4017 sec\n",
      "\n",
      "func:'sample_agg' took: 7.6693 sec\n",
      "\n",
      "*********ITER 6************\n",
      "func:'sample_agg' took: 7.0142 sec\n",
      "\n",
      "func:'sample_agg' took: 11.5513 sec\n",
      "\n",
      "*********ITER 7************\n",
      "func:'sample_agg' took: 7.6746 sec\n",
      "\n",
      "func:'sample_agg' took: 7.0784 sec\n",
      "\n",
      "*********ITER 8************\n",
      "func:'sample_agg' took: 13.5501 sec\n",
      "\n",
      "func:'sample_agg' took: 8.7870 sec\n",
      "\n",
      "*********ITER 9************\n",
      "func:'sample_agg' took: 7.2086 sec\n",
      "\n",
      "func:'sample_agg' took: 9.5183 sec\n",
      "\n",
      "*********ITER 10************\n",
      "func:'sample_agg' took: 10.6373 sec\n",
      "\n",
      "func:'sample_agg' took: 9.0143 sec\n",
      "\n",
      "*********ITER 11************\n",
      "func:'sample_agg' took: 10.6918 sec\n",
      "\n",
      "func:'sample_agg' took: 8.3167 sec\n",
      "\n",
      "*********ITER 12************\n",
      "func:'sample_agg' took: 7.0162 sec\n",
      "\n",
      "func:'sample_agg' took: 7.8370 sec\n",
      "\n",
      "*********ITER 13************\n",
      "func:'sample_agg' took: 10.3699 sec\n",
      "\n",
      "func:'sample_agg' took: 9.1424 sec\n",
      "\n",
      "*********ITER 14************\n",
      "func:'sample_agg' took: 8.8991 sec\n",
      "\n",
      "func:'sample_agg' took: 9.6982 sec\n",
      "\n",
      "*********ITER 15************\n",
      "func:'sample_agg' took: 8.4939 sec\n",
      "\n",
      "func:'sample_agg' took: 7.7901 sec\n",
      "\n",
      "*********ITER 16************\n",
      "func:'sample_agg' took: 7.7113 sec\n",
      "\n",
      "func:'sample_agg' took: 8.6564 sec\n",
      "\n",
      "*********ITER 17************\n",
      "func:'sample_agg' took: 9.1186 sec\n",
      "\n",
      "func:'sample_agg' took: 7.4399 sec\n",
      "\n",
      "*********ITER 18************\n",
      "func:'sample_agg' took: 10.5172 sec\n",
      "\n",
      "func:'sample_agg' took: 10.4382 sec\n",
      "\n",
      "*********ITER 19************\n",
      "func:'sample_agg' took: 8.9983 sec\n",
      "\n",
      "func:'sample_agg' took: 14.9886 sec\n",
      "\n",
      "*********ITER 20************\n",
      "func:'sample_agg' took: 10.6864 sec\n",
      "\n",
      "func:'sample_agg' took: 10.8769 sec\n",
      "\n",
      "*********ITER 21************\n",
      "func:'sample_agg' took: 13.5788 sec\n",
      "\n",
      "func:'sample_agg' took: 9.3966 sec\n",
      "\n",
      "*********ITER 22************\n",
      "func:'sample_agg' took: 6.6176 sec\n",
      "\n",
      "func:'sample_agg' took: 12.8987 sec\n",
      "\n",
      "*********ITER 23************\n",
      "func:'sample_agg' took: 13.2606 sec\n",
      "\n",
      "func:'sample_agg' took: 7.4814 sec\n",
      "\n",
      "*********ITER 24************\n",
      "func:'sample_agg' took: 7.0515 sec\n",
      "\n",
      "func:'sample_agg' took: 7.4639 sec\n",
      "\n",
      "*********ITER 25************\n",
      "func:'sample_agg' took: 6.4670 sec\n",
      "\n",
      "func:'sample_agg' took: 7.0092 sec\n",
      "\n",
      "*********ITER 26************\n",
      "func:'sample_agg' took: 6.9067 sec\n",
      "\n",
      "func:'sample_agg' took: 10.4319 sec\n",
      "\n",
      "*********ITER 27************\n",
      "func:'sample_agg' took: 9.1866 sec\n",
      "\n",
      "func:'sample_agg' took: 9.0444 sec\n",
      "\n",
      "*********ITER 28************\n",
      "func:'sample_agg' took: 7.2101 sec\n",
      "\n",
      "func:'sample_agg' took: 7.8027 sec\n",
      "\n",
      "*********ITER 29************\n",
      "func:'sample_agg' took: 7.1375 sec\n",
      "\n",
      "func:'sample_agg' took: 11.2356 sec\n",
      "\n",
      "*********ITER 30************\n",
      "func:'sample_agg' took: 21.2050 sec\n",
      "\n",
      "func:'sample_agg' took: 8.3756 sec\n",
      "\n",
      "*********ITER 31************\n",
      "func:'sample_agg' took: 8.4200 sec\n",
      "\n",
      "func:'sample_agg' took: 10.0626 sec\n",
      "\n",
      "*********ITER 32************\n",
      "func:'sample_agg' took: 7.4379 sec\n",
      "\n",
      "func:'sample_agg' took: 7.2540 sec\n",
      "\n",
      "*********ITER 33************\n",
      "func:'sample_agg' took: 6.2814 sec\n",
      "\n",
      "func:'sample_agg' took: 7.6626 sec\n",
      "\n",
      "*********ITER 34************\n",
      "func:'sample_agg' took: 8.5133 sec\n",
      "\n",
      "func:'sample_agg' took: 10.0579 sec\n",
      "\n",
      "*********ITER 35************\n",
      "func:'sample_agg' took: 6.9672 sec\n",
      "\n",
      "func:'sample_agg' took: 8.1517 sec\n",
      "\n",
      "*********ITER 36************\n",
      "func:'sample_agg' took: 6.5854 sec\n",
      "\n",
      "func:'sample_agg' took: 7.0827 sec\n",
      "\n",
      "*********ITER 37************\n",
      "func:'sample_agg' took: 6.4471 sec\n",
      "\n",
      "func:'sample_agg' took: 7.4050 sec\n",
      "\n",
      "*********ITER 38************\n",
      "func:'sample_agg' took: 10.7399 sec\n",
      "\n",
      "func:'sample_agg' took: 13.1207 sec\n",
      "\n",
      "*********ITER 39************\n",
      "func:'sample_agg' took: 7.8083 sec\n",
      "\n",
      "func:'sample_agg' took: 6.8842 sec\n",
      "\n",
      "*********ITER 40************\n",
      "func:'sample_agg' took: 134.0381 sec\n",
      "\n",
      "func:'sample_agg' took: 8.6101 sec\n",
      "\n",
      "*********ITER 41************\n",
      "func:'sample_agg' took: 11.8358 sec\n",
      "\n",
      "func:'sample_agg' took: 56.6847 sec\n",
      "\n",
      "*********ITER 42************\n",
      "func:'sample_agg' took: 6.7564 sec\n",
      "\n",
      "func:'sample_agg' took: 9.2719 sec\n",
      "\n",
      "*********ITER 43************\n",
      "func:'sample_agg' took: 7.5605 sec\n",
      "\n",
      "func:'sample_agg' took: 553.2712 sec\n",
      "\n",
      "*********ITER 44************\n",
      "func:'sample_agg' took: 26.8205 sec\n",
      "\n",
      "func:'sample_agg' took: 10.1097 sec\n",
      "\n",
      "*********ITER 45************\n",
      "func:'sample_agg' took: 7.1262 sec\n",
      "\n",
      "func:'sample_agg' took: 7.2674 sec\n",
      "\n",
      "*********ITER 46************\n",
      "func:'sample_agg' took: 6.8072 sec\n",
      "\n",
      "func:'sample_agg' took: 9.1627 sec\n",
      "\n",
      "*********ITER 47************\n",
      "func:'sample_agg' took: 13.1950 sec\n",
      "\n",
      "func:'sample_agg' took: 8.6190 sec\n",
      "\n",
      "*********ITER 48************\n",
      "func:'sample_agg' took: 7.4105 sec\n",
      "\n",
      "func:'sample_agg' took: 7.0985 sec\n",
      "\n",
      "*********ITER 49************\n",
      "func:'sample_agg' took: 6.1052 sec\n",
      "\n",
      "func:'sample_agg' took: 7.2283 sec\n",
      "CPU times: user 14min 36s, sys: 2min 25s, total: 17min 1s\n",
      "Wall time: 30min 17s\n"
     ]
    }
   ],
   "source": [
    "%%time\n",
    "results4 = test_all(g, eps=3.0, iters=50)"
   ]
  },
  {
   "cell_type": "code",
   "execution_count": 33,
   "metadata": {
    "collapsed": false
   },
   "outputs": [
    {
     "name": "stdout",
     "output_type": "stream",
     "text": [
      "Actual Edge: 0.200298, Actual Tri: 0.077164\n",
      "Edge Cond (eps=0.1) --> Mean: 0.210125, Range: (0.196936, 0.244861)\n",
      "Tri Cond (eps=0.1) --> Mean: 0.082431, Range: (0.072035, 0.099231)\n",
      "Edge Cond (eps=0.5) --> Mean: 0.208108, Range: (0.195205, 0.224579)\n",
      "Tri Cond (eps=0.5) --> Mean: 0.080704, Range: (0.073773, 0.088311)\n",
      "Edge Cond (eps=3.0) --> Mean: 0.206183, Range: (0.198639, 0.213819)\n",
      "Tri Cond (eps=3.0) --> Mean: 0.081335, Range: (0.076679, 0.087438)\n"
     ]
    }
   ],
   "source": [
    "# eps = 0.5\n",
    "def print_res(results, eps):\n",
    "    edgeVals=[results[i]['edgeCond_samp'] for i in range(50)]\n",
    "    print \"Edge Cond (eps=%s) --> Mean: %f, Range: (%f, %f)\" % (str(eps)[:3], np.mean(edgeVals), min(edgeVals), max(edgeVals))\n",
    "    triVals=[results[i]['triCond_samp'] for i in range(50)]\n",
    "    print \"Tri Cond (eps=%s) --> Mean: %f, Range: (%f, %f)\" % (str(eps)[:3], np.mean(triVals), min(triVals), max(triVals))\n",
    "\n",
    "print \"Actual Edge: %f, Actual Tri: %f\" % (results1['edgeCond'], results1['triCond'])\n",
    "print_res(results1, 0.1)\n",
    "print_res(results2, 0.5)\n",
    "print_res(results4, 3.0)"
   ]
  },
  {
   "cell_type": "markdown",
   "metadata": {},
   "source": [
    "#### N = 5000, P_in = 0.01, P_out= 0.002 ####"
   ]
  },
  {
   "cell_type": "code",
   "execution_count": 36,
   "metadata": {
    "collapsed": false,
    "scrolled": true
   },
   "outputs": [
    {
     "name": "stdout",
     "output_type": "stream",
     "text": [
      "CPU times: user 2.38 s, sys: 137 ms, total: 2.52 s\n",
      "Wall time: 2.54 s\n"
     ]
    }
   ],
   "source": [
    "%%time\n",
    "# generate planted partition graph\n",
    "g2 = generatePlantedPartition(2, 5000, 0.01, 0.002)"
   ]
  },
  {
   "cell_type": "code",
   "execution_count": 42,
   "metadata": {
    "collapsed": false,
    "scrolled": true
   },
   "outputs": [
    {
     "name": "stdout",
     "output_type": "stream",
     "text": [
      "func:'approxEdgeConductance' took: 37.8480 sec\n",
      "func:'approxTriConductance' took: 42.3705 sec\n",
      "\n",
      "*********ITER 0************\n",
      "func:'sample_agg' took: 8.6423 sec\n",
      "\n",
      "func:'sample_agg' took: 4.9782 sec\n",
      "\n",
      "*********ITER 1************\n",
      "func:'sample_agg' took: 6.7085 sec\n",
      "\n",
      "func:'sample_agg' took: 5.5528 sec\n",
      "\n",
      "*********ITER 2************\n",
      "func:'sample_agg' took: 6.5856 sec\n",
      "\n",
      "func:'sample_agg' took: 5.2357 sec\n",
      "\n",
      "*********ITER 3************\n",
      "func:'sample_agg' took: 7.2120 sec\n",
      "\n",
      "func:'sample_agg' took: 4.4510 sec\n",
      "\n",
      "*********ITER 4************\n",
      "func:'sample_agg' took: 6.5380 sec\n",
      "\n",
      "func:'sample_agg' took: 5.3311 sec\n",
      "\n",
      "*********ITER 5************\n",
      "func:'sample_agg' took: 6.4360 sec\n",
      "\n",
      "func:'sample_agg' took: 5.2309 sec\n",
      "\n",
      "*********ITER 6************\n",
      "func:'sample_agg' took: 6.5570 sec\n",
      "\n",
      "func:'sample_agg' took: 4.9650 sec\n",
      "\n",
      "*********ITER 7************\n",
      "func:'sample_agg' took: 7.1150 sec\n",
      "\n",
      "func:'sample_agg' took: 4.8762 sec\n",
      "\n",
      "*********ITER 8************\n",
      "func:'sample_agg' took: 7.5573 sec\n",
      "\n",
      "func:'sample_agg' took: 5.6247 sec\n",
      "\n",
      "*********ITER 9************\n",
      "func:'sample_agg' took: 7.0015 sec\n",
      "\n",
      "func:'sample_agg' took: 5.3768 sec\n",
      "\n",
      "*********ITER 10************\n",
      "func:'sample_agg' took: 6.5261 sec\n",
      "\n",
      "func:'sample_agg' took: 5.9940 sec\n",
      "\n",
      "*********ITER 11************\n",
      "func:'sample_agg' took: 6.2777 sec\n",
      "\n",
      "func:'sample_agg' took: 5.3257 sec\n",
      "\n",
      "*********ITER 12************\n",
      "func:'sample_agg' took: 6.3043 sec\n",
      "\n",
      "func:'sample_agg' took: 5.1685 sec\n",
      "\n",
      "*********ITER 13************\n",
      "func:'sample_agg' took: 6.1108 sec\n",
      "\n",
      "func:'sample_agg' took: 5.0890 sec\n",
      "\n",
      "*********ITER 14************\n",
      "func:'sample_agg' took: 6.6703 sec\n",
      "\n",
      "func:'sample_agg' took: 5.4258 sec\n",
      "\n",
      "*********ITER 15************\n",
      "func:'sample_agg' took: 7.2653 sec\n",
      "\n",
      "func:'sample_agg' took: 4.9725 sec\n",
      "\n",
      "*********ITER 16************\n",
      "func:'sample_agg' took: 7.2985 sec\n",
      "\n",
      "func:'sample_agg' took: 5.3883 sec\n",
      "\n",
      "*********ITER 17************\n",
      "func:'sample_agg' took: 7.0369 sec\n",
      "\n",
      "func:'sample_agg' took: 5.3806 sec\n",
      "\n",
      "*********ITER 18************\n",
      "func:'sample_agg' took: 7.2694 sec\n",
      "\n",
      "func:'sample_agg' took: 5.2511 sec\n",
      "\n",
      "*********ITER 19************\n",
      "func:'sample_agg' took: 6.7067 sec\n",
      "\n",
      "func:'sample_agg' took: 5.4865 sec\n",
      "\n",
      "*********ITER 20************\n",
      "func:'sample_agg' took: 7.3646 sec\n",
      "\n",
      "func:'sample_agg' took: 5.3954 sec\n",
      "\n",
      "*********ITER 21************\n",
      "func:'sample_agg' took: 7.2562 sec\n",
      "\n",
      "func:'sample_agg' took: 5.8872 sec\n",
      "\n",
      "*********ITER 22************\n",
      "func:'sample_agg' took: 6.5315 sec\n",
      "\n",
      "func:'sample_agg' took: 5.7879 sec\n",
      "\n",
      "*********ITER 23************\n",
      "func:'sample_agg' took: 6.7914 sec\n",
      "\n",
      "func:'sample_agg' took: 5.8844 sec\n",
      "\n",
      "*********ITER 24************\n",
      "func:'sample_agg' took: 7.3034 sec\n",
      "\n",
      "func:'sample_agg' took: 5.2154 sec\n",
      "\n",
      "*********ITER 25************\n",
      "func:'sample_agg' took: 7.7314 sec\n",
      "\n",
      "func:'sample_agg' took: 5.9582 sec\n",
      "\n",
      "*********ITER 26************\n",
      "func:'sample_agg' took: 6.1447 sec\n",
      "\n",
      "func:'sample_agg' took: 4.5849 sec\n",
      "\n",
      "*********ITER 27************\n",
      "func:'sample_agg' took: 7.3395 sec\n",
      "\n",
      "func:'sample_agg' took: 5.2539 sec\n",
      "\n",
      "*********ITER 28************\n",
      "func:'sample_agg' took: 7.3235 sec\n",
      "\n",
      "func:'sample_agg' took: 5.4378 sec\n",
      "\n",
      "*********ITER 29************\n",
      "func:'sample_agg' took: 7.2925 sec\n",
      "\n",
      "func:'sample_agg' took: 5.3055 sec\n",
      "\n",
      "*********ITER 30************\n",
      "func:'sample_agg' took: 9.5050 sec\n",
      "\n",
      "func:'sample_agg' took: 7.7958 sec\n",
      "\n",
      "*********ITER 31************\n",
      "func:'sample_agg' took: 7.1363 sec\n",
      "\n",
      "func:'sample_agg' took: 5.8975 sec\n",
      "\n",
      "*********ITER 32************\n",
      "func:'sample_agg' took: 6.6820 sec\n",
      "\n",
      "func:'sample_agg' took: 5.4279 sec\n",
      "\n",
      "*********ITER 33************\n",
      "func:'sample_agg' took: 8.3441 sec\n",
      "\n",
      "func:'sample_agg' took: 4.4191 sec\n",
      "\n",
      "*********ITER 34************\n",
      "func:'sample_agg' took: 7.6264 sec\n",
      "\n",
      "func:'sample_agg' took: 5.3682 sec\n",
      "\n",
      "*********ITER 35************\n",
      "func:'sample_agg' took: 7.0341 sec\n",
      "\n",
      "func:'sample_agg' took: 5.3337 sec\n",
      "\n",
      "*********ITER 36************\n",
      "func:'sample_agg' took: 6.6450 sec\n",
      "\n",
      "func:'sample_agg' took: 5.7224 sec\n",
      "\n",
      "*********ITER 37************\n",
      "func:'sample_agg' took: 7.2867 sec\n",
      "\n",
      "func:'sample_agg' took: 5.3158 sec\n",
      "\n",
      "*********ITER 38************\n",
      "func:'sample_agg' took: 6.7333 sec\n",
      "\n",
      "func:'sample_agg' took: 4.8118 sec\n",
      "\n",
      "*********ITER 39************\n",
      "func:'sample_agg' took: 6.8196 sec\n",
      "\n",
      "func:'sample_agg' took: 5.8069 sec\n",
      "\n",
      "*********ITER 40************\n",
      "func:'sample_agg' took: 6.8986 sec\n",
      "\n",
      "func:'sample_agg' took: 6.1297 sec\n",
      "\n",
      "*********ITER 41************\n",
      "func:'sample_agg' took: 6.9534 sec\n",
      "\n",
      "func:'sample_agg' took: 4.0100 sec\n",
      "\n",
      "*********ITER 42************\n",
      "func:'sample_agg' took: 6.8242 sec\n",
      "\n",
      "func:'sample_agg' took: 4.9519 sec\n",
      "\n",
      "*********ITER 43************\n",
      "func:'sample_agg' took: 7.7615 sec\n",
      "\n",
      "func:'sample_agg' took: 5.6089 sec\n",
      "\n",
      "*********ITER 44************\n",
      "func:'sample_agg' took: 7.2514 sec\n",
      "\n",
      "func:'sample_agg' took: 5.9197 sec\n",
      "\n",
      "*********ITER 45************\n",
      "func:'sample_agg' took: 8.4390 sec\n",
      "\n",
      "func:'sample_agg' took: 4.3671 sec\n",
      "\n",
      "*********ITER 46************\n",
      "func:'sample_agg' took: 7.0636 sec\n",
      "\n",
      "func:'sample_agg' took: 5.0707 sec\n",
      "\n",
      "*********ITER 47************\n",
      "func:'sample_agg' took: 6.8184 sec\n",
      "\n",
      "func:'sample_agg' took: 4.9572 sec\n",
      "\n",
      "*********ITER 48************\n",
      "func:'sample_agg' took: 7.3460 sec\n",
      "\n",
      "func:'sample_agg' took: 5.8446 sec\n",
      "\n",
      "*********ITER 49************\n",
      "func:'sample_agg' took: 7.0476 sec\n",
      "\n",
      "func:'sample_agg' took: 4.7425 sec\n",
      "CPU times: user 11min 53s, sys: 51.4 s, total: 12min 45s\n",
      "Wall time: 11min 42s\n"
     ]
    }
   ],
   "source": [
    "%%time\n",
    "results21 = test_all(g2, eps=0.1, iters=20, k_sample=int(np.log(10000)**(1.5)))"
   ]
  },
  {
   "cell_type": "code",
   "execution_count": 43,
   "metadata": {
    "collapsed": false
   },
   "outputs": [
    {
     "name": "stdout",
     "output_type": "stream",
     "text": [
      "Actual Edge: 0.498675, Actual Tri: 0.395293\n",
      "Edge Cond (eps=0.1) --> Mean: 0.685659, Range: (0.396681, 2.575000)\n",
      "Tri Cond (eps=0.1) --> Mean: 0.149871, Range: (0.000000, 0.600000)\n"
     ]
    }
   ],
   "source": [
    "print \"Actual Edge: %f, Actual Tri: %f\" % (results21['edgeCond'], results21['triCond'])\n",
    "print_res(results21, 0.1)"
   ]
  },
  {
   "cell_type": "code",
   "execution_count": null,
   "metadata": {
    "collapsed": true
   },
   "outputs": [],
   "source": [
    "%%time\n",
    "results22 = test_all(g2, eps=0.5, iters=50)"
   ]
  },
  {
   "cell_type": "code",
   "execution_count": null,
   "metadata": {
    "collapsed": true
   },
   "outputs": [],
   "source": [
    "%%time\n",
    "results23 = test_all(g2, eps=3.0, iters=50)"
   ]
  },
  {
   "cell_type": "markdown",
   "metadata": {},
   "source": [
    "### Testing on Real Graph ##"
   ]
  },
  {
   "cell_type": "code",
   "execution_count": null,
   "metadata": {
    "collapsed": true,
    "scrolled": true
   },
   "outputs": [],
   "source": []
  }
 ],
 "metadata": {
  "kernelspec": {
   "display_name": "Python 2",
   "language": "python",
   "name": "python2"
  },
  "language_info": {
   "codemirror_mode": {
    "name": "ipython",
    "version": 2
   },
   "file_extension": ".py",
   "mimetype": "text/x-python",
   "name": "python",
   "nbconvert_exporter": "python",
   "pygments_lexer": "ipython2",
   "version": "2.7.12"
  }
 },
 "nbformat": 4,
 "nbformat_minor": 0
}
